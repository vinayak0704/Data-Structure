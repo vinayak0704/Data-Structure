{
  "cells": [
    {
      "cell_type": "markdown",
      "metadata": {
        "id": "BOw0GDtdFX19"
      },
      "source": [
        "## Theoretical Questions\n"
      ],
      "id": "BOw0GDtdFX19"
    },
    {
      "cell_type": "markdown",
      "metadata": {
        "id": "vxr9CGnwFX19"
      },
      "source": [
        "1. **What are data structures, and why are they important?**\n",
        "\n",
        "Data structures are organized ways to store, manage, and retrieve data (e.g., arrays, lists, trees, hash tables). They are important because they affect the efficiency of operations (searching, inserting, deleting) and determine how memory is used.\n"
      ],
      "id": "vxr9CGnwFX19"
    },
    {
      "cell_type": "markdown",
      "metadata": {
        "id": "OzL72xNxFX1-"
      },
      "source": [
        "2. **Explain the difference between mutable and immutable data types with examples.**\n",
        "\n",
        "- Mutable objects can be changed after creation (e.g., `list`, `dict`, `set`).\n",
        "- Immutable objects cannot be changed after creation (e.g., `int`, `float`, `str`, `tuple`).\n",
        "Example: modifying a list `a=[1,2]; a.append(3)` changes `a`, while `s='hi'; s.replace('h','b')` returns a new string and does not change the original `s`.\n"
      ],
      "id": "OzL72xNxFX1-"
    },
    {
      "cell_type": "markdown",
      "metadata": {
        "id": "eSCmM_RvFX1-"
      },
      "source": [
        "3. **Main differences between lists and tuples in Python**\n",
        "\n",
        "- `list` is mutable; `tuple` is immutable.\n",
        "- Lists have methods like `append`, `remove`; tuples do not.\n",
        "- Tuples can be used as dictionary keys if they contain only immutable items; lists cannot.\n"
      ],
      "id": "eSCmM_RvFX1-"
    },
    {
      "cell_type": "markdown",
      "metadata": {
        "id": "GEZ2pKSLFX1-"
      },
      "source": [
        "4. **Describe how dictionaries store data**\n",
        "\n",
        "Dictionaries store data as key-value pairs using a hash table mechanism. Keys are hashed to determine where values are stored, allowing (on average) O(1) time for lookups, inserts, and deletes.\n"
      ],
      "id": "GEZ2pKSLFX1-"
    },
    {
      "cell_type": "markdown",
      "metadata": {
        "id": "q0flEXiVFX1-"
      },
      "source": [
        "5. **Why might you use a set instead of a list in Python?**\n",
        "\n",
        "Use a `set` when you need uniqueness of items and fast membership tests (average O(1)). Sets automatically remove duplicates and are optimized for membership, intersection, union, difference operations.\n"
      ],
      "id": "q0flEXiVFX1-"
    },
    {
      "cell_type": "markdown",
      "metadata": {
        "id": "JUv_P0vuFX1-"
      },
      "source": [
        "6. **What is a string in Python, and how is it different from a list?**\n",
        "\n",
        "A string is an immutable sequence of characters. While you can index and slice strings like lists, strings are immutable and only hold characters (not arbitrary Python objects). Lists are mutable and can contain mixed types.\n"
      ],
      "id": "JUv_P0vuFX1-"
    },
    {
      "cell_type": "markdown",
      "metadata": {
        "id": "OGwAkehNFX1-"
      },
      "source": [
        "7. **How do tuples ensure data integrity in Python?**\n",
        "\n",
        "Tuples are immutable, so their contents cannot be changed after creation. This immutability ensures that data meant to remain constant is safe from accidental modification.\n"
      ],
      "id": "OGwAkehNFX1-"
    },
    {
      "cell_type": "markdown",
      "metadata": {
        "id": "qMMgqVyOFX1-"
      },
      "source": [
        "8. **What is a hash table, and how does it relate to dictionaries in Python?**\n",
        "\n",
        "A hash table maps keys to values using a hash function to compute an index. Python dictionaries are implemented using a hash table, which gives near-constant time for key-based access.\n"
      ],
      "id": "qMMgqVyOFX1-"
    },
    {
      "cell_type": "markdown",
      "metadata": {
        "id": "pANDW6qfFX1-"
      },
      "source": [
        "9. **Can lists contain different data types in Python?**\n",
        "\n",
        "Yes. Python lists are heterogeneous — they can hold ints, strings, objects, other lists, etc.\n"
      ],
      "id": "pANDW6qfFX1-"
    },
    {
      "cell_type": "markdown",
      "metadata": {
        "id": "O4WBFf1BFX1_"
      },
      "source": [
        "10. **Explain why strings are immutable in Python**\n",
        "\n",
        "Strings are immutable for safety, simplicity, and performance (sharing memory, hashability). Immutable strings can be used as dictionary keys and reduce surprising side effects.\n"
      ],
      "id": "O4WBFf1BFX1_"
    },
    {
      "cell_type": "markdown",
      "metadata": {
        "id": "-c-OUsSuFX1_"
      },
      "source": [
        "11. **What advantages do dictionaries offer over lists for certain tasks?**\n",
        "\n",
        "Dictionaries provide O(1) average-time keyed access, allowing retrieval by meaningful keys rather than by index. They are better when you need named or associative access.\n"
      ],
      "id": "-c-OUsSuFX1_"
    },
    {
      "cell_type": "markdown",
      "metadata": {
        "id": "hjtxNBq1FX1_"
      },
      "source": [
        "12. **Describe a scenario where using a tuple would be preferable over a list.**\n",
        "\n",
        "Tuples are preferable when you want an immutable sequence, e.g., storing (latitude, longitude) coordinates or using as keys in dictionaries.\n"
      ],
      "id": "hjtxNBq1FX1_"
    },
    {
      "cell_type": "markdown",
      "metadata": {
        "id": "iPs-Hf8WFX1_"
      },
      "source": [
        "13. **How do sets handle duplicate values in Python?**\n",
        "\n",
        "Sets automatically eliminate duplicates. When creating a set from an iterable, duplicate elements are removed.\n"
      ],
      "id": "iPs-Hf8WFX1_"
    },
    {
      "cell_type": "markdown",
      "metadata": {
        "id": "ZdnEyQZ8FX1_"
      },
      "source": [
        "14. **How does the `in` keyword work differently for lists and dictionaries?**\n",
        "\n",
        "- For lists, `x in list` checks whether a value equal to `x` exists (linear search, O(n)).\n",
        "- For dictionaries, `key in dict` checks membership in keys using hashing (average O(1)).\n"
      ],
      "id": "ZdnEyQZ8FX1_"
    },
    {
      "cell_type": "markdown",
      "metadata": {
        "id": "K8F1JiNXFX1_"
      },
      "source": [
        "15. **Can you modify the elements of a tuple? Explain why or why not.**\n",
        "\n",
        "No — tuples are immutable. You cannot change, add, or remove elements. However, if a tuple contains a mutable object (e.g., list), that inner object can be modified.\n"
      ],
      "id": "K8F1JiNXFX1_"
    },
    {
      "cell_type": "markdown",
      "metadata": {
        "id": "KFSSN7upFX1_"
      },
      "source": [
        "16. **What is a nested dictionary, and give an example of its use case.**\n",
        "\n",
        "A nested dictionary is a dictionary whose values are dictionaries. Example use: storing student records where each student key maps to a dict of attributes: `{ 'alice': {'age':20,'city':'NY'}, 'bob': {...}}`.\n"
      ],
      "id": "KFSSN7upFX1_"
    },
    {
      "cell_type": "markdown",
      "metadata": {
        "id": "16u6IPm1FX1_"
      },
      "source": [
        "17. **Describe the time complexity of accessing elements in a dictionary.**\n",
        "\n",
        "Average-case O(1) for lookup, insertion, and deletion. Worst-case can degrade (rare) to O(n) due to hash collisions or rehashing.\n"
      ],
      "id": "16u6IPm1FX1_"
    },
    {
      "cell_type": "markdown",
      "metadata": {
        "id": "wsfP4zeHFX1_"
      },
      "source": [
        "18. **In what situations are lists preferred over dictionaries?**\n",
        "\n",
        "When order and positional access matter, when you need to store sequences, or when you require duplicate elements. Lists are simpler for indexed operations and iteration.\n"
      ],
      "id": "wsfP4zeHFX1_"
    },
    {
      "cell_type": "markdown",
      "metadata": {
        "id": "b8cJsBGsFX1_"
      },
      "source": [
        "19. **Why are dictionaries considered unordered, and how does that affect data retrieval?**\n",
        "\n",
        "Historically dictionaries were unordered; modern Python (3.7+) preserves insertion order as an implementation detail. However, dictionaries are not indexed by position — retrieval is by key, not position. Relying on insertion order for algorithms should be done carefully.\n"
      ],
      "id": "b8cJsBGsFX1_"
    },
    {
      "cell_type": "markdown",
      "metadata": {
        "id": "N44AqRtIFX1_"
      },
      "source": [
        "20. **Explain the difference between a list and a dictionary in terms of data retrieval.**\n",
        "\n",
        "- Lists: retrieval by numeric index (O(1)), searching by value is O(n).\n",
        "- Dictionaries: retrieval by key using hashing (average O(1)). Use dicts when you need lookup by a unique key.\n"
      ],
      "id": "N44AqRtIFX1_"
    },
    {
      "cell_type": "markdown",
      "metadata": {
        "id": "4LT5U7FbFX1_"
      },
      "source": [
        "----\n",
        "## Practical Questions\n"
      ],
      "id": "4LT5U7FbFX1_"
    },
    {
      "cell_type": "markdown",
      "metadata": {
        "id": "CvYCxXs4FX1_"
      },
      "source": [
        "### Q1: Write a code to create a string with your name and print it.\n"
      ],
      "id": "CvYCxXs4FX1_"
    },
    {
      "cell_type": "code",
      "execution_count": null,
      "metadata": {
        "colab": {
          "base_uri": "https://localhost:8080/"
        },
        "id": "POkgGcaZFX1_",
        "outputId": "aa50da7c-5f79-45e4-b9f1-e6d6c95b0502"
      },
      "outputs": [
        {
          "output_type": "stream",
          "name": "stdout",
          "text": [
            "Your Name\n"
          ]
        }
      ],
      "source": [
        "name = \"Your Name\"\n",
        "print(name)\n"
      ],
      "id": "POkgGcaZFX1_"
    },
    {
      "cell_type": "markdown",
      "metadata": {
        "id": "JCnlPuVNFX2A"
      },
      "source": [
        "### Q2: Write a code to find the length of the string \"Hello World\".\n"
      ],
      "id": "JCnlPuVNFX2A"
    },
    {
      "cell_type": "code",
      "execution_count": null,
      "metadata": {
        "colab": {
          "base_uri": "https://localhost:8080/"
        },
        "id": "0GrkdwUjFX2A",
        "outputId": "21838106-ddaa-4eb5-d6fb-b78dd46f5188"
      },
      "outputs": [
        {
          "output_type": "stream",
          "name": "stdout",
          "text": [
            "11\n"
          ]
        }
      ],
      "source": [
        "s = \"Hello World\"\n",
        "print(len(s))\n"
      ],
      "id": "0GrkdwUjFX2A"
    },
    {
      "cell_type": "markdown",
      "metadata": {
        "id": "xb68CQ7GFX2A"
      },
      "source": [
        "### Q3: Write a code to slice the first 3 characters from the string \"Python Programming\".\n"
      ],
      "id": "xb68CQ7GFX2A"
    },
    {
      "cell_type": "code",
      "execution_count": null,
      "metadata": {
        "colab": {
          "base_uri": "https://localhost:8080/"
        },
        "id": "2Xhj8AISFX2A",
        "outputId": "53181dd8-179d-4b9c-aaca-10b5f588f3a6"
      },
      "outputs": [
        {
          "output_type": "stream",
          "name": "stdout",
          "text": [
            "Pyt\n"
          ]
        }
      ],
      "source": [
        "s = \"Python Programming\"\n",
        "print(s[:3])\n"
      ],
      "id": "2Xhj8AISFX2A"
    },
    {
      "cell_type": "markdown",
      "metadata": {
        "id": "HUE9eK-GFX2A"
      },
      "source": [
        "### Q4: Write a code to convert the string \"hello\" to uppercase.\n"
      ],
      "id": "HUE9eK-GFX2A"
    },
    {
      "cell_type": "code",
      "execution_count": null,
      "metadata": {
        "colab": {
          "base_uri": "https://localhost:8080/"
        },
        "id": "ZfGz9NS-FX2A",
        "outputId": "9dae9415-8fcc-465e-cacd-7c2b1654f737"
      },
      "outputs": [
        {
          "output_type": "stream",
          "name": "stdout",
          "text": [
            "HELLO\n"
          ]
        }
      ],
      "source": [
        "print(\"hello\".upper())\n"
      ],
      "id": "ZfGz9NS-FX2A"
    },
    {
      "cell_type": "markdown",
      "metadata": {
        "id": "PqDMOKvhFX2A"
      },
      "source": [
        "### Q5: Write a code to replace the word \"apple\" with \"orange\" in the string \"I like apple\".\n"
      ],
      "id": "PqDMOKvhFX2A"
    },
    {
      "cell_type": "code",
      "execution_count": null,
      "metadata": {
        "colab": {
          "base_uri": "https://localhost:8080/"
        },
        "id": "ybaRJoTIFX2A",
        "outputId": "6f4b4385-c8dc-44f1-f375-9d878d54b1c9"
      },
      "outputs": [
        {
          "output_type": "stream",
          "name": "stdout",
          "text": [
            "I like orange\n"
          ]
        }
      ],
      "source": [
        "s = \"I like apple\"\n",
        "print(s.replace(\"apple\",\"orange\"))\n"
      ],
      "id": "ybaRJoTIFX2A"
    },
    {
      "cell_type": "markdown",
      "metadata": {
        "id": "VPa7-o75FX2A"
      },
      "source": [
        "### Q6: Write a code to create a list with numbers 1 to 5 and print it.\n"
      ],
      "id": "VPa7-o75FX2A"
    },
    {
      "cell_type": "code",
      "execution_count": null,
      "metadata": {
        "colab": {
          "base_uri": "https://localhost:8080/"
        },
        "id": "6ofnKR9PFX2A",
        "outputId": "be49f9a8-8d77-4be6-afe4-2245ca6cbada"
      },
      "outputs": [
        {
          "output_type": "stream",
          "name": "stdout",
          "text": [
            "[1, 2, 3, 4, 5]\n"
          ]
        }
      ],
      "source": [
        "lst = [1,2,3,4,5]\n",
        "print(lst)\n"
      ],
      "id": "6ofnKR9PFX2A"
    },
    {
      "cell_type": "markdown",
      "metadata": {
        "id": "rjcR163kFX2A"
      },
      "source": [
        "### Q7: Write a code to append the number 10 to the list [1, 2, 3, 4].\n"
      ],
      "id": "rjcR163kFX2A"
    },
    {
      "cell_type": "code",
      "execution_count": null,
      "metadata": {
        "colab": {
          "base_uri": "https://localhost:8080/"
        },
        "id": "UF-1bR99FX2A",
        "outputId": "18000b80-caaf-4870-eeb7-7f88590d9a66"
      },
      "outputs": [
        {
          "output_type": "stream",
          "name": "stdout",
          "text": [
            "[1, 2, 3, 4, 10]\n"
          ]
        }
      ],
      "source": [
        "lst = [1,2,3,4]\n",
        "lst.append(10)\n",
        "print(lst)\n"
      ],
      "id": "UF-1bR99FX2A"
    },
    {
      "cell_type": "markdown",
      "metadata": {
        "id": "mNKoulL7FX2A"
      },
      "source": [
        "### Q8: Write a code to remove the number 3 from the list [1, 2, 3, 4, 5].\n"
      ],
      "id": "mNKoulL7FX2A"
    },
    {
      "cell_type": "code",
      "execution_count": null,
      "metadata": {
        "colab": {
          "base_uri": "https://localhost:8080/"
        },
        "id": "-sDlVO0vFX2B",
        "outputId": "bfbe38a8-5c92-41d1-bd1a-2a4db436b9ba"
      },
      "outputs": [
        {
          "output_type": "stream",
          "name": "stdout",
          "text": [
            "[1, 2, 4, 5]\n"
          ]
        }
      ],
      "source": [
        "lst = [1,2,3,4,5]\n",
        "lst.remove(3)\n",
        "print(lst)\n"
      ],
      "id": "-sDlVO0vFX2B"
    },
    {
      "cell_type": "markdown",
      "metadata": {
        "id": "_BzOydemFX2J"
      },
      "source": [
        "### Q9: Write a code to access the second element in the list ['a', 'b', 'c', 'd'].\n"
      ],
      "id": "_BzOydemFX2J"
    },
    {
      "cell_type": "code",
      "execution_count": null,
      "metadata": {
        "colab": {
          "base_uri": "https://localhost:8080/"
        },
        "id": "GR4bsN65FX2J",
        "outputId": "b1a4056d-1e9e-4553-dfed-5b1463005760"
      },
      "outputs": [
        {
          "output_type": "stream",
          "name": "stdout",
          "text": [
            "b\n"
          ]
        }
      ],
      "source": [
        "lst = ['a','b','c','d']\n",
        "print(lst[1])\n"
      ],
      "id": "GR4bsN65FX2J"
    },
    {
      "cell_type": "markdown",
      "metadata": {
        "id": "73TK7A8HFX2J"
      },
      "source": [
        "### Q10: Write a code to reverse the list [10, 20, 30, 40, 50].\n"
      ],
      "id": "73TK7A8HFX2J"
    },
    {
      "cell_type": "code",
      "execution_count": null,
      "metadata": {
        "colab": {
          "base_uri": "https://localhost:8080/"
        },
        "id": "_LWaivaaFX2J",
        "outputId": "9266e1bd-51fd-4580-d832-1bd58858be09"
      },
      "outputs": [
        {
          "output_type": "stream",
          "name": "stdout",
          "text": [
            "[50, 40, 30, 20, 10]\n"
          ]
        }
      ],
      "source": [
        "lst = [10,20,30,40,50]\n",
        "lst.reverse()\n",
        "print(lst)\n"
      ],
      "id": "_LWaivaaFX2J"
    },
    {
      "cell_type": "markdown",
      "metadata": {
        "id": "wk93dm6HFX2J"
      },
      "source": [
        "### Q11: Write a code to create a tuple with the elements 100, 200, 300 and print it.\n"
      ],
      "id": "wk93dm6HFX2J"
    },
    {
      "cell_type": "code",
      "execution_count": null,
      "metadata": {
        "colab": {
          "base_uri": "https://localhost:8080/"
        },
        "id": "aCf0_gh6FX2J",
        "outputId": "718a25a6-cbab-4c47-ca91-8a6e294885d7"
      },
      "outputs": [
        {
          "output_type": "stream",
          "name": "stdout",
          "text": [
            "(100, 200, 300)\n"
          ]
        }
      ],
      "source": [
        "t = (100,200,300)\n",
        "print(t)\n"
      ],
      "id": "aCf0_gh6FX2J"
    },
    {
      "cell_type": "markdown",
      "metadata": {
        "id": "7nH2drrlFX2J"
      },
      "source": [
        "### Q12: Write a code to access the second-to-last element of the tuple ('red', 'green', 'blue', 'yellow').\n"
      ],
      "id": "7nH2drrlFX2J"
    },
    {
      "cell_type": "code",
      "execution_count": null,
      "metadata": {
        "colab": {
          "base_uri": "https://localhost:8080/"
        },
        "id": "OwQl4adCFX2J",
        "outputId": "34a14bd5-f48e-4d3b-a106-a979ef737065"
      },
      "outputs": [
        {
          "output_type": "stream",
          "name": "stdout",
          "text": [
            "blue\n"
          ]
        }
      ],
      "source": [
        "t = ('red','green','blue','yellow')\n",
        "print(t[-2])\n"
      ],
      "id": "OwQl4adCFX2J"
    },
    {
      "cell_type": "markdown",
      "metadata": {
        "id": "OzNW_XN-FX2K"
      },
      "source": [
        "### Q13: Write a code to find the minimum number in the tuple (10, 20, 5, 15).\n"
      ],
      "id": "OzNW_XN-FX2K"
    },
    {
      "cell_type": "code",
      "execution_count": null,
      "metadata": {
        "colab": {
          "base_uri": "https://localhost:8080/"
        },
        "id": "gnsAlRwYFX2K",
        "outputId": "8946e7b9-eb2b-41d3-c810-d7d6fc1f90b7"
      },
      "outputs": [
        {
          "output_type": "stream",
          "name": "stdout",
          "text": [
            "5\n"
          ]
        }
      ],
      "source": [
        "t = (10,20,5,15)\n",
        "print(min(t))\n"
      ],
      "id": "gnsAlRwYFX2K"
    },
    {
      "cell_type": "markdown",
      "metadata": {
        "id": "aBadkAZIFX2K"
      },
      "source": [
        "### Q14: Write a code to find the index of the element \"cat\" in the tuple ('dog', 'cat', 'rabbit').\n",
        "\n",
        "\n"
      ],
      "id": "aBadkAZIFX2K"
    },
    {
      "cell_type": "code",
      "execution_count": null,
      "metadata": {
        "colab": {
          "base_uri": "https://localhost:8080/"
        },
        "id": "E3_i7HaUFX2K",
        "outputId": "ecda2ee4-3d29-455e-f2d8-6f839fc91c49"
      },
      "outputs": [
        {
          "output_type": "stream",
          "name": "stdout",
          "text": [
            "1\n"
          ]
        }
      ],
      "source": [
        "t = ('dog','cat','rabbit')\n",
        "print(t.index('cat'))\n"
      ],
      "id": "E3_i7HaUFX2K"
    },
    {
      "cell_type": "markdown",
      "metadata": {
        "id": "8Z7q8WhKFX2K"
      },
      "source": [
        "### Q15: Write a code to create a tuple containing three different fruits and check if \"kiwi\" is in it\n"
      ],
      "id": "8Z7q8WhKFX2K"
    },
    {
      "cell_type": "code",
      "execution_count": null,
      "metadata": {
        "colab": {
          "base_uri": "https://localhost:8080/"
        },
        "id": "o3QVK0U_FX2K",
        "outputId": "52c93ea6-629e-4993-9899-fffaf652b99d"
      },
      "outputs": [
        {
          "output_type": "stream",
          "name": "stdout",
          "text": [
            "True\n"
          ]
        }
      ],
      "source": [
        "fruits = ('apple','banana','kiwi')\n",
        "print('kiwi' in fruits)\n"
      ],
      "id": "o3QVK0U_FX2K"
    },
    {
      "cell_type": "markdown",
      "metadata": {
        "id": "9zJQV70RFX2K"
      },
      "source": [
        "### Q16: Write a code to create a set with the elements 'a', 'b', 'c' and print it.\n",
        "\n",
        "\n"
      ],
      "id": "9zJQV70RFX2K"
    },
    {
      "cell_type": "code",
      "execution_count": null,
      "metadata": {
        "colab": {
          "base_uri": "https://localhost:8080/"
        },
        "id": "7wAF0QdWFX2K",
        "outputId": "e05b1971-70b1-4256-a6f4-96b3bd821517"
      },
      "outputs": [
        {
          "output_type": "stream",
          "name": "stdout",
          "text": [
            "{'c', 'b', 'a'}\n"
          ]
        }
      ],
      "source": [
        "s = {'a','b','c'}\n",
        "print(s)\n"
      ],
      "id": "7wAF0QdWFX2K"
    },
    {
      "cell_type": "markdown",
      "metadata": {
        "id": "fenDq8mWFX2K"
      },
      "source": [
        "### Q17: Write a code to clear all elements from the set {1, 2, 3, 4, 5}.\n"
      ],
      "id": "fenDq8mWFX2K"
    },
    {
      "cell_type": "code",
      "execution_count": null,
      "metadata": {
        "colab": {
          "base_uri": "https://localhost:8080/"
        },
        "id": "e3rmfA5BFX2K",
        "outputId": "e4cbf5ae-5557-462b-bf83-1a1850b9f7a8"
      },
      "outputs": [
        {
          "output_type": "stream",
          "name": "stdout",
          "text": [
            "set()\n"
          ]
        }
      ],
      "source": [
        "s = {1,2,3,4,5}\n",
        "s.clear()\n",
        "print(s)\n"
      ],
      "id": "e3rmfA5BFX2K"
    },
    {
      "cell_type": "markdown",
      "metadata": {
        "id": "CZH9jKCaFX2K"
      },
      "source": [
        "### Q18: Write a code to remove the element 4 from the set {1, 2, 3, 4}.\n"
      ],
      "id": "CZH9jKCaFX2K"
    },
    {
      "cell_type": "code",
      "execution_count": null,
      "metadata": {
        "colab": {
          "base_uri": "https://localhost:8080/"
        },
        "id": "0JOf3WObFX2K",
        "outputId": "c86b5155-42d0-41b4-a94e-c468a9796369"
      },
      "outputs": [
        {
          "output_type": "stream",
          "name": "stdout",
          "text": [
            "{1, 2, 3}\n"
          ]
        }
      ],
      "source": [
        "s = {1,2,3,4}\n",
        "s.discard(4)\n",
        "print(s)\n"
      ],
      "id": "0JOf3WObFX2K"
    },
    {
      "cell_type": "markdown",
      "metadata": {
        "id": "GKacpCumFX2K"
      },
      "source": [
        "### Q19:  Write a code to find the union of two sets {1, 2, 3} and {3, 4, 5}.\n"
      ],
      "id": "GKacpCumFX2K"
    },
    {
      "cell_type": "code",
      "execution_count": null,
      "metadata": {
        "colab": {
          "base_uri": "https://localhost:8080/"
        },
        "id": "Tqk4T0FoFX2K",
        "outputId": "ef20a1c9-b13b-4740-aeeb-e0d67dd2f9c6"
      },
      "outputs": [
        {
          "output_type": "stream",
          "name": "stdout",
          "text": [
            "{1, 2, 3, 4, 5}\n"
          ]
        }
      ],
      "source": [
        "a = {1,2,3}\n",
        "b = {3,4,5}\n",
        "print(a.union(b))\n"
      ],
      "id": "Tqk4T0FoFX2K"
    },
    {
      "cell_type": "markdown",
      "metadata": {
        "id": "YE8_Br7dFX2K"
      },
      "source": [
        "### Q20: Write a code to find the intersection of two sets {1, 2, 3} and {2, 3, 4}.\n",
        "\n",
        "\n"
      ],
      "id": "YE8_Br7dFX2K"
    },
    {
      "cell_type": "code",
      "execution_count": null,
      "metadata": {
        "colab": {
          "base_uri": "https://localhost:8080/"
        },
        "id": "v1vo47vFFX2K",
        "outputId": "0adb0ef2-ab99-41ed-f207-110814d5c2e7"
      },
      "outputs": [
        {
          "output_type": "stream",
          "name": "stdout",
          "text": [
            "{2, 3}\n"
          ]
        }
      ],
      "source": [
        "a = {1,2,3}\n",
        "b = {2,3,4}\n",
        "print(a.intersection(b))\n"
      ],
      "id": "v1vo47vFFX2K"
    },
    {
      "cell_type": "markdown",
      "metadata": {
        "id": "6TUwZJoUFX2K"
      },
      "source": [
        "### Q21: Write a code to create a dictionary with the keys \"name\", \"age\", and \"city\", and print it.\n"
      ],
      "id": "6TUwZJoUFX2K"
    },
    {
      "cell_type": "code",
      "execution_count": null,
      "metadata": {
        "colab": {
          "base_uri": "https://localhost:8080/"
        },
        "id": "0xQvSgKQFX2L",
        "outputId": "6bea2f9a-6cd2-4e50-97c0-e51996a52f44"
      },
      "outputs": [
        {
          "output_type": "stream",
          "name": "stdout",
          "text": [
            "{'name': 'Alice', 'age': 25, 'city': 'London'}\n"
          ]
        }
      ],
      "source": [
        "d = {'name':'Alice','age':25,'city':'London'}\n",
        "print(d)\n"
      ],
      "id": "0xQvSgKQFX2L"
    },
    {
      "cell_type": "markdown",
      "metadata": {
        "id": "rmox7ehQFX2L"
      },
      "source": [
        "### Q22: Write a code to add a new key-value pair \"country\": \"USA\" to the dictionary {'name': 'John', 'age': 25}.\n"
      ],
      "id": "rmox7ehQFX2L"
    },
    {
      "cell_type": "code",
      "execution_count": null,
      "metadata": {
        "colab": {
          "base_uri": "https://localhost:8080/"
        },
        "id": "Omc-q7FNFX2L",
        "outputId": "008c326d-198b-413a-9ddb-1d5571230592"
      },
      "outputs": [
        {
          "output_type": "stream",
          "name": "stdout",
          "text": [
            "{'name': 'John', 'age': 25, 'country': 'USA'}\n"
          ]
        }
      ],
      "source": [
        "d = {'name':'John','age':25}\n",
        "d['country'] = 'USA'\n",
        "print(d)\n"
      ],
      "id": "Omc-q7FNFX2L"
    },
    {
      "cell_type": "markdown",
      "metadata": {
        "id": "bVDFzzleFX2L"
      },
      "source": [
        "### Q23: Write a code to access the value associated with the key \"name\" in the dictionary {'name': 'Alice', 'age': 30}.\n"
      ],
      "id": "bVDFzzleFX2L"
    },
    {
      "cell_type": "code",
      "execution_count": null,
      "metadata": {
        "colab": {
          "base_uri": "https://localhost:8080/"
        },
        "id": "UyAbG5SAFX2L",
        "outputId": "a703d284-60bb-45bd-e763-d828fd91d85d"
      },
      "outputs": [
        {
          "output_type": "stream",
          "name": "stdout",
          "text": [
            "Alice\n"
          ]
        }
      ],
      "source": [
        "d = {'name':'Alice','age':30}\n",
        "print(d['name'])\n"
      ],
      "id": "UyAbG5SAFX2L"
    },
    {
      "cell_type": "markdown",
      "metadata": {
        "id": "33KVE0aWFX2L"
      },
      "source": [
        "### Q24: Write a code to remove the key \"age\" from the dictionary {'name': 'Bob', 'age': 22, 'city': 'New York'}.\n"
      ],
      "id": "33KVE0aWFX2L"
    },
    {
      "cell_type": "code",
      "execution_count": null,
      "metadata": {
        "colab": {
          "base_uri": "https://localhost:8080/"
        },
        "id": "ODaHYgT6FX2L",
        "outputId": "6dcb3f06-a443-4b9a-9723-1006c21af90a"
      },
      "outputs": [
        {
          "output_type": "stream",
          "name": "stdout",
          "text": [
            "{'name': 'Bob', 'city': 'New York'}\n"
          ]
        }
      ],
      "source": [
        "d = {'name':'Bob','age':22,'city':'New York'}\n",
        "d.pop('age', None)\n",
        "print(d)\n"
      ],
      "id": "ODaHYgT6FX2L"
    },
    {
      "cell_type": "markdown",
      "metadata": {
        "id": "EvyF6KD8FX2L"
      },
      "source": [
        "### Q25: Write a code to check if the key \"city\" exists in the dictionary {'name': 'Alice', 'city': 'Paris'}.\n",
        "\n",
        "\n"
      ],
      "id": "EvyF6KD8FX2L"
    },
    {
      "cell_type": "code",
      "execution_count": null,
      "metadata": {
        "colab": {
          "base_uri": "https://localhost:8080/"
        },
        "id": "ZOQmCj0qFX2L",
        "outputId": "b973d78e-a246-4442-86f0-d9259d8e6a47"
      },
      "outputs": [
        {
          "output_type": "stream",
          "name": "stdout",
          "text": [
            "True\n"
          ]
        }
      ],
      "source": [
        "d = {'name':'Alice','city':'Paris'}\n",
        "print('city' in d)\n"
      ],
      "id": "ZOQmCj0qFX2L"
    },
    {
      "cell_type": "markdown",
      "metadata": {
        "id": "8F43zOsuFX2L"
      },
      "source": [
        "### Q26:  Write a code to create a list, a tuple, and a dictionary, and print them all.\n"
      ],
      "id": "8F43zOsuFX2L"
    },
    {
      "cell_type": "code",
      "execution_count": null,
      "metadata": {
        "colab": {
          "base_uri": "https://localhost:8080/"
        },
        "id": "nOIslbj3FX2L",
        "outputId": "4a9c3431-3d3d-4580-c59f-ff954f366d5f"
      },
      "outputs": [
        {
          "output_type": "stream",
          "name": "stdout",
          "text": [
            "[1, 2, 3]\n",
            "(4, 5, 6)\n",
            "{'a': 1, 'b': 2}\n"
          ]
        }
      ],
      "source": [
        "lst = [1,2,3]\n",
        "t = (4,5,6)\n",
        "d = {'a':1,'b':2}\n",
        "print(lst)\n",
        "print(t)\n",
        "print(d)\n"
      ],
      "id": "nOIslbj3FX2L"
    },
    {
      "cell_type": "markdown",
      "metadata": {
        "id": "kh4gcBobFX2L"
      },
      "source": [
        "### Q27:  Write a code to create a list of 5 random numbers between 1 and 100, sort it in ascending order, and print the result.(replaced)\n"
      ],
      "id": "kh4gcBobFX2L"
    },
    {
      "cell_type": "code",
      "execution_count": null,
      "metadata": {
        "colab": {
          "base_uri": "https://localhost:8080/"
        },
        "id": "_iKdkkP2FX2L",
        "outputId": "b90fcf20-22ce-4535-dc30-9e2affe9b470"
      },
      "outputs": [
        {
          "output_type": "stream",
          "name": "stdout",
          "text": [
            "[5, 26, 47, 63, 79]\n"
          ]
        }
      ],
      "source": [
        "import random\n",
        "lst = random.sample(range(1,101),5)\n",
        "lst.sort()\n",
        "print(lst)\n"
      ],
      "id": "_iKdkkP2FX2L"
    },
    {
      "cell_type": "markdown",
      "metadata": {
        "id": "WE-KIPKmFX2L"
      },
      "source": [
        "### Q28: Write a code to create a list with strings and print the element at the third index.\n"
      ],
      "id": "WE-KIPKmFX2L"
    },
    {
      "cell_type": "code",
      "execution_count": null,
      "metadata": {
        "colab": {
          "base_uri": "https://localhost:8080/"
        },
        "id": "gaYF-Z3gFX2L",
        "outputId": "f0619ed9-3bd4-41fb-d7cd-91c5cffc82b2"
      },
      "outputs": [
        {
          "output_type": "stream",
          "name": "stdout",
          "text": [
            "three\n"
          ]
        }
      ],
      "source": [
        "lst = ['zero','one','two','three','four']\n",
        "print(lst[3])\n"
      ],
      "id": "gaYF-Z3gFX2L"
    },
    {
      "cell_type": "markdown",
      "metadata": {
        "id": "QHTt_GmaFX2L"
      },
      "source": [
        "### Q29: Write a code to combine two dictionaries into one and print the result.\n"
      ],
      "id": "QHTt_GmaFX2L"
    },
    {
      "cell_type": "code",
      "execution_count": null,
      "metadata": {
        "colab": {
          "base_uri": "https://localhost:8080/"
        },
        "id": "KS7V6PV7FX2L",
        "outputId": "91eb9df8-0fc4-441c-afc7-1ef65446ed85"
      },
      "outputs": [
        {
          "output_type": "stream",
          "name": "stdout",
          "text": [
            "{'a': 1, 'b': 2, 'c': 3, 'd': 4}\n"
          ]
        }
      ],
      "source": [
        "d1 = {'a':1,'b':2}\n",
        "d2 = {'c':3,'d':4}\n",
        "combined = {**d1, **d2}\n",
        "print(combined)\n"
      ],
      "id": "KS7V6PV7FX2L"
    },
    {
      "cell_type": "markdown",
      "metadata": {
        "id": "5xRltfKGFX2M"
      },
      "source": [
        "### Q30: Write a code to convert a list of strings into a set.\n"
      ],
      "id": "5xRltfKGFX2M"
    },
    {
      "cell_type": "code",
      "execution_count": null,
      "metadata": {
        "colab": {
          "base_uri": "https://localhost:8080/"
        },
        "id": "GuvrZjR-FX2M",
        "outputId": "acb19c5d-69c6-440e-b283-247c8731ff5a"
      },
      "outputs": [
        {
          "output_type": "stream",
          "name": "stdout",
          "text": [
            "{'apple', 'banana'}\n"
          ]
        }
      ],
      "source": [
        "lst = ['apple','banana','apple']\n",
        "s = set(lst)\n",
        "print(s)\n"
      ],
      "id": "GuvrZjR-FX2M"
    }
  ],
  "metadata": {
    "kernelspec": {
      "display_name": "Python 3",
      "language": "python",
      "name": "python3"
    },
    "language_info": {
      "name": "python",
      "version": "3.8"
    },
    "colab": {
      "provenance": []
    }
  },
  "nbformat": 4,
  "nbformat_minor": 5
}